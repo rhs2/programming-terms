{
 "cells": [
  {
   "cell_type": "markdown",
   "id": "1d2696a9-7be6-465e-91ab-a16a019fc866",
   "metadata": {},
   "source": [
    "# working with memoization\n",
    "- memoization is a optimization technique used primarily to speed up computer programs by strong the results of expensive function calls and returning the cached result when the same inputs occur again"
   ]
  },
  {
   "cell_type": "code",
   "execution_count": 1,
   "id": "bb2ea74a-92ba-4725-b174-46e80ef6a8f6",
   "metadata": {},
   "outputs": [
    {
     "name": "stdout",
     "output_type": "stream",
     "text": [
      "Computing.. 4\n",
      "16\n",
      "Computing.. 10\n",
      "100\n",
      "Computing.. 4\n",
      "16\n",
      "Computing.. 10\n",
      "100\n"
     ]
    }
   ],
   "source": [
    "import time\n",
    "def expensive_func(num):\n",
    "    print(f\"Computing...... {num}\")\n",
    "    time.sleep(1) #it sleeps for 1 seconds and re-run \n",
    "    return num*num\n",
    "\n",
    "result = expensive_func(4)\n",
    "print(result)\n",
    "\n",
    "result= expensive_func(10)\n",
    "print(result)\n",
    "\n",
    "result = expensive_func(4)\n",
    "print(result)\n",
    "\n",
    "result = expensive_func(10)\n",
    "print(result)"
   ]
  },
  {
   "cell_type": "code",
   "execution_count": 4,
   "id": "7b8b21d2-f232-423b-a3a4-e95af4053bb4",
   "metadata": {},
   "outputs": [
    {
     "name": "stdout",
     "output_type": "stream",
     "text": [
      "Computing...... 4\n",
      "16\n",
      "Computing...... 10\n",
      "100\n",
      "16\n",
      "100\n"
     ]
    }
   ],
   "source": [
    "#memoization basically is remembers the result and when it is called again it gathers date from cached\n",
    "#this function remembers the time\n",
    "import time\n",
    "ef_cache ={}\n",
    "def expensive_func(num):\n",
    "    if num in ef_cache:\n",
    "        return ef_cache[num]\n",
    "    print(f\"Computing...... {num}\")\n",
    "    time.sleep(1) #it sleeps for 1 seconds and re-run \n",
    "    result = num*num\n",
    "    ef_cache[num] = result\n",
    "    return result\n",
    "\n",
    "result = expensive_func(4)\n",
    "print(result)\n",
    "\n",
    "result= expensive_func(10)\n",
    "print(result)\n",
    "\n",
    "result = expensive_func(4)\n",
    "print(result)\n",
    "\n",
    "result = expensive_func(10)\n",
    "print(result)"
   ]
  },
  {
   "cell_type": "code",
   "execution_count": null,
   "id": "0da36711-d8c5-49dc-af15-270aafebdf66",
   "metadata": {},
   "outputs": [],
   "source": []
  }
 ],
 "metadata": {
  "kernelspec": {
   "display_name": "Python 3 (ipykernel)",
   "language": "python",
   "name": "python3"
  },
  "language_info": {
   "codemirror_mode": {
    "name": "ipython",
    "version": 3
   },
   "file_extension": ".py",
   "mimetype": "text/x-python",
   "name": "python",
   "nbconvert_exporter": "python",
   "pygments_lexer": "ipython3",
   "version": "3.12.10"
  },
  "widgets": {
   "application/vnd.jupyter.widget-state+json": {
    "state": {},
    "version_major": 2,
    "version_minor": 0
   }
  }
 },
 "nbformat": 4,
 "nbformat_minor": 5
}
