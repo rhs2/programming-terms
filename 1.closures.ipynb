{
 "cells": [
  {
   "cell_type": "markdown",
   "id": "d8b5a1f5-1025-4ba8-8203-0b3b59b731ff",
   "metadata": {},
   "source": [
    "# wroking with closures\n",
    "- "
   ]
  },
  {
   "cell_type": "code",
   "execution_count": 1,
   "id": "7c37838a-7ef1-4a0a-aeb1-acc56e53bcea",
   "metadata": {},
   "outputs": [
    {
     "name": "stdout",
     "output_type": "stream",
     "text": [
      "Hi\n"
     ]
    }
   ],
   "source": [
    "def outer_func(): #outer function\n",
    "    message = 'Hi' #enclosed variable\n",
    "    \n",
    "    def inner_func(): #inner_funtion\n",
    "        print(message)\n",
    "    return inner_func()\n",
    "    \n",
    "outer_func()"
   ]
  },
  {
   "cell_type": "code",
   "execution_count": 8,
   "id": "7dd668f2-9b68-4f88-9826-8818cc16cc37",
   "metadata": {},
   "outputs": [
    {
     "name": "stdout",
     "output_type": "stream",
     "text": [
      "inner_func\n",
      "<function outer_func.<locals>.inner_func at 0x1068c4d60>\n",
      "Hi\n",
      "Hi\n"
     ]
    }
   ],
   "source": [
    "def outer_func(): #outer function\n",
    "    message = 'Hi' #enclosed variable\n",
    "    \n",
    "    def inner_func(): #inner_funtion\n",
    "        print(message)\n",
    "    return inner_func #returning funtion without executing it gives the memory object\n",
    "    \n",
    "f = outer_func()\n",
    "print(f.__name__) #checking up the func name\n",
    "print(f) #memory location where the func located\n",
    "f() #executing the func again but already outer funtion is executed still now we have the access to that inner funtion ans that is closure\n",
    "f()"
   ]
  },
  {
   "cell_type": "code",
   "execution_count": 12,
   "id": "d55bdf08-ce42-4a1c-98ab-e36ebe44f8e3",
   "metadata": {},
   "outputs": [
    {
     "name": "stdout",
     "output_type": "stream",
     "text": [
      "hii\n",
      "bye\n"
     ]
    }
   ],
   "source": [
    "#parameter with the funtions\n",
    "def outer_func(msg): #outer function\n",
    "    message = msg #enclosed variable\n",
    "    \n",
    "    def inner_func(): #inner_funtion\n",
    "        print(message)\n",
    "    return inner_func\n",
    "    \n",
    "hi_func = outer_func(\"hii\")\n",
    "bye_func = outer_func(\"bye\")\n",
    "\n",
    "\n",
    "hi_func()\n",
    "bye_func()\n"
   ]
  },
  {
   "cell_type": "code",
   "execution_count": 15,
   "id": "6e36de6a-d153-46e5-aea2-260b6b63261c",
   "metadata": {},
   "outputs": [
    {
     "name": "stdout",
     "output_type": "stream",
     "text": [
      "hi My name is rhs\n",
      "bye My name is sio\n"
     ]
    }
   ],
   "source": [
    "#using parameter on both outer func and inner func\n",
    "#parameter with the funtions\n",
    "def outer_func(msg): #outer function\n",
    "    message = msg #enclosed variable\n",
    "    \n",
    "    def inner_func(name): #inner_funtion\n",
    "        print(message, f\"My name is {name}\")\n",
    "    return inner_func\n",
    "    \n",
    "hi_func = outer_func(\"hi\")\n",
    "bye_func = outer_func(\"bye\")\n",
    "\n",
    "\n",
    "hi_func(\"rhs\")\n",
    "bye_func('sio')"
   ]
  },
  {
   "cell_type": "code",
   "execution_count": 16,
   "id": "0cec8f53-f518-40b9-bba1-62d3afb48dec",
   "metadata": {},
   "outputs": [
    {
     "name": "stdout",
     "output_type": "stream",
     "text": [
      "6\n",
      "9\n",
      "5\n",
      "10\n"
     ]
    }
   ],
   "source": [
    "\n",
    "# # Closures\n",
    "\n",
    "import logging\n",
    "logging.basicConfig(filename='example.log', level=logging.INFO)\n",
    "\n",
    "\n",
    "def logger(func): #and func as its parameter\n",
    "    def log_func(*args): #it accepts any number of argument\n",
    "        logging.info(\n",
    "            'Running \"{}\" with arguments {}'.format(func.__name__, args)) #running the funtion as we passed in and it print the log\n",
    "        print(func(*args))\n",
    "    return log_func\n",
    "\n",
    "\n",
    "def add(x, y): # add function\n",
    "    return x+y\n",
    "\n",
    "\n",
    "def sub(x, y): #subtract funtion\n",
    "    return x-y\n",
    "\n",
    "add_logger = logger(add) #add_logger -inner func\n",
    "sub_logger = logger(sub) #sub_logger - inner function\n",
    "\n",
    "add_logger(3, 3)\n",
    "add_logger(4, 5)\n",
    "\n",
    "sub_logger(10, 5)\n",
    "sub_logger(20, 10)"
   ]
  },
  {
   "cell_type": "code",
   "execution_count": null,
   "id": "e6b66511-34aa-4e19-8c02-0fb5f2e4810f",
   "metadata": {},
   "outputs": [],
   "source": []
  }
 ],
 "metadata": {
  "kernelspec": {
   "display_name": "Python 3 (ipykernel)",
   "language": "python",
   "name": "python3"
  },
  "language_info": {
   "codemirror_mode": {
    "name": "ipython",
    "version": 3
   },
   "file_extension": ".py",
   "mimetype": "text/x-python",
   "name": "python",
   "nbconvert_exporter": "python",
   "pygments_lexer": "ipython3",
   "version": "3.12.10"
  },
  "widgets": {
   "application/vnd.jupyter.widget-state+json": {
    "state": {},
    "version_major": 2,
    "version_minor": 0
   }
  }
 },
 "nbformat": 4,
 "nbformat_minor": 5
}
