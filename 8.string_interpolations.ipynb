{
 "cells": [
  {
   "cell_type": "markdown",
   "id": "ae08bfd9-7c65-4d60-bf37-661d3121586e",
   "metadata": {},
   "source": [
    "# working with string interpolations\n",
    "- the process od evaluating a string literal containing one or more placeholders, yielding a result in which the placeholders are replaced with their corresponding values"
   ]
  },
  {
   "cell_type": "code",
   "execution_count": 7,
   "id": "114e9d55-719c-49d2-b945-a6e62b31e8c8",
   "metadata": {},
   "outputs": [
    {
     "name": "stdout",
     "output_type": "stream",
     "text": [
      "My name is rhs2 and my age is 28\n"
     ]
    }
   ],
   "source": [
    "#string concat\n",
    "name = 'rhs2'\n",
    "age = 28\n",
    "print(\"My name is \"+ name + \" and \" + \"my age is \" + str(age))\n"
   ]
  },
  {
   "cell_type": "code",
   "execution_count": 8,
   "id": "dac8ccb1-f49d-4784-ae3a-bcd5185ea363",
   "metadata": {},
   "outputs": [
    {
     "name": "stdout",
     "output_type": "stream",
     "text": [
      "my name is rhs2 and my age is 28\n"
     ]
    }
   ],
   "source": [
    "#string interpolations\n",
    "#format string\n",
    "print(\"my name is {} and my age is {}\".format(name, age))"
   ]
  },
  {
   "cell_type": "code",
   "execution_count": 9,
   "id": "c4739200-b286-450b-9c9b-221471770f41",
   "metadata": {},
   "outputs": [
    {
     "name": "stdout",
     "output_type": "stream",
     "text": [
      "my name is rhs2 and my age is 28\n"
     ]
    }
   ],
   "source": [
    "#we can be more precise \n",
    "#format string\n",
    "print(\"my name is {name} and my age is {age}\".format(name=name, age=age))"
   ]
  },
  {
   "cell_type": "code",
   "execution_count": 10,
   "id": "12c616d5-7479-4b01-a367-1c4426d2a39a",
   "metadata": {},
   "outputs": [
    {
     "name": "stdout",
     "output_type": "stream",
     "text": [
      "my name is rhs2 and my age is 28\n"
     ]
    }
   ],
   "source": [
    "#format string\n",
    "print(\"my name is {0} and my age is {1}\".format(name, age))"
   ]
  },
  {
   "cell_type": "markdown",
   "id": "070b4ebf-31c7-4c20-8f8a-5c94b062f0f1",
   "metadata": {},
   "source": [
    "# f-string ---> this comes after python version 3.6"
   ]
  },
  {
   "cell_type": "code",
   "execution_count": 11,
   "id": "0262976f-9654-41cb-a8a1-ec575619a49d",
   "metadata": {},
   "outputs": [
    {
     "name": "stdout",
     "output_type": "stream",
     "text": [
      "my name is rhs2 and my age is 28\n"
     ]
    }
   ],
   "source": [
    "#f-string - this comes after python version 3.6\n",
    "print(f\"my name is {name} and my age is {age}\")"
   ]
  },
  {
   "cell_type": "code",
   "execution_count": 12,
   "id": "9a754344-6d1b-407c-875b-e91f879d6dcb",
   "metadata": {},
   "outputs": [],
   "source": [
    "#this is string interpolations"
   ]
  },
  {
   "cell_type": "code",
   "execution_count": null,
   "id": "5ac04d4f-8797-4e79-86b6-1bd4a416b823",
   "metadata": {},
   "outputs": [],
   "source": []
  }
 ],
 "metadata": {
  "kernelspec": {
   "display_name": "Python 3 (ipykernel)",
   "language": "python",
   "name": "python3"
  },
  "language_info": {
   "codemirror_mode": {
    "name": "ipython",
    "version": 3
   },
   "file_extension": ".py",
   "mimetype": "text/x-python",
   "name": "python",
   "nbconvert_exporter": "python",
   "pygments_lexer": "ipython3",
   "version": "3.12.10"
  },
  "widgets": {
   "application/vnd.jupyter.widget-state+json": {
    "state": {},
    "version_major": 2,
    "version_minor": 0
   }
  }
 },
 "nbformat": 4,
 "nbformat_minor": 5
}
