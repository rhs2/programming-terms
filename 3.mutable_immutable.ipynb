{
 "cells": [
  {
   "cell_type": "markdown",
   "id": "9ce5e30f-7045-489b-a386-fff78b6859b2",
   "metadata": {},
   "source": [
    "# working with mutable and immutable"
   ]
  },
  {
   "cell_type": "code",
   "execution_count": 6,
   "id": "d7876c40-b356-4713-b4aa-9ad2ec30d6ba",
   "metadata": {},
   "outputs": [
    {
     "name": "stdout",
     "output_type": "stream",
     "text": [
      "rhs\n",
      "4392410768\n",
      "john\n",
      "4424370432\n"
     ]
    }
   ],
   "source": [
    "#string is immutable\n",
    "# it is modifying the string obejct it is creating a new object with a different memory locations\n",
    "a = \"rhs\"\n",
    "print(a)\n",
    "print(id(a)) #printing out id to check the memory location\n",
    "\n",
    "a = 'john'\n",
    "print(a)\n",
    "print(id(a))"
   ]
  },
  {
   "cell_type": "code",
   "execution_count": 3,
   "id": "88994b02-8617-43f1-8b52-5688ceac84b9",
   "metadata": {},
   "outputs": [
    {
     "name": "stdout",
     "output_type": "stream",
     "text": [
      "john\n"
     ]
    }
   ],
   "source": [
    "a = 'john'\n",
    "print(a)"
   ]
  },
  {
   "cell_type": "code",
   "execution_count": 7,
   "id": "4cea931f-d14c-4c20-a113-e7ff24a6aec8",
   "metadata": {},
   "outputs": [],
   "source": [
    "#change 1 character in string\n",
    "#we can not modify string we will get error\n",
    "# a[0] = 'b'"
   ]
  },
  {
   "cell_type": "code",
   "execution_count": null,
   "id": "0db22a23-1de0-4cb4-bc55-496ae9f41ca4",
   "metadata": {},
   "outputs": [],
   "source": []
  },
  {
   "cell_type": "code",
   "execution_count": 10,
   "id": "6d2c817b-577e-427d-a329-608fe1c08ac1",
   "metadata": {},
   "outputs": [
    {
     "name": "stdout",
     "output_type": "stream",
     "text": [
      "[12, 3, 45, 6]\n",
      "4424196032\n",
      "[6, 3, 45, 6]\n",
      "4424196032\n"
     ]
    }
   ],
   "source": [
    "#list are mutable\n",
    "list1= [12,3,45,6]\n",
    "print(list1)\n",
    "print(id(list1))\n",
    "\n",
    "list1[0] =6\n",
    "print(list1)\n",
    "print(id(list1))\n",
    "#its memory locations are same but we did mofications on the list"
   ]
  },
  {
   "cell_type": "code",
   "execution_count": 15,
   "id": "ff78e883-2236-44d4-bf2c-64df93250e7c",
   "metadata": {},
   "outputs": [
    {
     "name": "stdout",
     "output_type": "stream",
     "text": [
      "<ul>\n",
      "\t<li>Corey</li>\n",
      "\t<li>John</li>\n",
      "\t<li>Rick</li>\n",
      "\t<li>Steve</li>\n",
      "\t<li>Carl</li>\n",
      "\t<li>Adam</li>\n",
      "</ul>\n",
      "\n",
      "\n"
     ]
    }
   ],
   "source": [
    "# each looping creating a new memory object this can takes a huge memory for a very large number\n",
    "employees = ['Corey', 'John', 'Rick', 'Steve', 'Carl', 'Adam']\n",
    "\n",
    "output = '<ul>\\n'\n",
    "\n",
    "for employee in employees:\n",
    "    output += '\\t<li>{}</li>\\n'.format(employee)\n",
    "    # print ('Address of output is {}'.format(id(output)))\n",
    "\n",
    "output += '</ul>'\n",
    "\n",
    "print (output)\n",
    "\n",
    "print ('\\n')"
   ]
  },
  {
   "cell_type": "code",
   "execution_count": 16,
   "id": "a9320f55-20a8-495d-acbb-a021318d7d33",
   "metadata": {},
   "outputs": [
    {
     "name": "stdout",
     "output_type": "stream",
     "text": [
      "Address of output is 4424488432\n",
      "Address of output is 4424039232\n",
      "Address of output is 4401408176\n",
      "Address of output is 4424307008\n",
      "Address of output is 4424468144\n",
      "Address of output is 4414811152\n",
      "<ul>\n",
      "\t<li>Corey</li>\n",
      "\t<li>John</li>\n",
      "\t<li>Rick</li>\n",
      "\t<li>Steve</li>\n",
      "\t<li>Carl</li>\n",
      "\t<li>Adam</li>\n",
      "</ul>\n",
      "\n",
      "\n"
     ]
    }
   ],
   "source": [
    "# each looping creating a new memory object this can takes a huge memory for a very large number\n",
    "employees = ['Corey', 'John', 'Rick', 'Steve', 'Carl', 'Adam']\n",
    "\n",
    "output = '<ul>\\n'\n",
    "\n",
    "for employee in employees:\n",
    "    output += '\\t<li>{}</li>\\n'.format(employee)\n",
    "    print ('Address of output is {}'.format(id(output)))\n",
    "\n",
    "output += '</ul>'\n",
    "\n",
    "print (output)\n",
    "\n",
    "print ('\\n')"
   ]
  },
  {
   "cell_type": "code",
   "execution_count": null,
   "id": "020f6101-4fde-4022-ad01-dff13ab33cd6",
   "metadata": {},
   "outputs": [],
   "source": []
  }
 ],
 "metadata": {
  "kernelspec": {
   "display_name": "Python 3 (ipykernel)",
   "language": "python",
   "name": "python3"
  },
  "language_info": {
   "codemirror_mode": {
    "name": "ipython",
    "version": 3
   },
   "file_extension": ".py",
   "mimetype": "text/x-python",
   "name": "python",
   "nbconvert_exporter": "python",
   "pygments_lexer": "ipython3",
   "version": "3.12.10"
  },
  "widgets": {
   "application/vnd.jupyter.widget-state+json": {
    "state": {},
    "version_major": 2,
    "version_minor": 0
   }
  }
 },
 "nbformat": 4,
 "nbformat_minor": 5
}
