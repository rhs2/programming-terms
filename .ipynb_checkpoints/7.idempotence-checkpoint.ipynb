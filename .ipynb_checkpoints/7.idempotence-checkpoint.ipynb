{
 "cells": [
  {
   "cell_type": "markdown",
   "id": "25757b85-cc28-432d-be9a-9693a90bbf24",
   "metadata": {},
   "source": [
    "# working with idempotence"
   ]
  },
  {
   "cell_type": "code",
   "execution_count": 1,
   "id": "2ec3b8e2-eb3d-45e4-9032-2681097a2739",
   "metadata": {},
   "outputs": [],
   "source": [
    "#the property of certain operations in maths and cs that can be applied multiple times without changing the result beyond the initial applications\n"
   ]
  },
  {
   "cell_type": "code",
   "execution_count": 2,
   "id": "4f06d55f-929b-4699-bd76-b124cb5cb209",
   "metadata": {},
   "outputs": [],
   "source": [
    "#f(f(x)= f(x)\n",
    "#if we have func f and parameter x--> f(x) and func , inside func of x----> f(f(x)) both the result will be same\n",
    "#if we compute that f(f(x)) that will be same as f(x)\n"
   ]
  },
  {
   "cell_type": "code",
   "execution_count": 3,
   "id": "0b0fff6c-be18-409c-853d-05eabe5cb23d",
   "metadata": {},
   "outputs": [
    {
     "data": {
      "text/plain": [
       "20"
      ]
     },
     "execution_count": 3,
     "metadata": {},
     "output_type": "execute_result"
    }
   ],
   "source": [
    "def add_num(num):\n",
    "    return num+10\n",
    "add_num(10)\n"
   ]
  },
  {
   "cell_type": "code",
   "execution_count": 4,
   "id": "b01815f9-fce4-47b4-9589-7e6a11d13199",
   "metadata": {},
   "outputs": [
    {
     "data": {
      "text/plain": [
       "30"
      ]
     },
     "execution_count": 4,
     "metadata": {},
     "output_type": "execute_result"
    }
   ],
   "source": [
    " add_num(add_num(10)) #this is not idempotence because it is different that f(f(x)) = f(x)"
   ]
  },
  {
   "cell_type": "code",
   "execution_count": 5,
   "id": "bc3a69d3-3021-406e-8af0-795742547ca9",
   "metadata": {},
   "outputs": [],
   "source": [
    "#f(f(x)) ---------> f(x)\n",
    "# f(f(10))= 30 | f(10)=20"
   ]
  },
  {
   "cell_type": "code",
   "execution_count": 6,
   "id": "62ecf213-8df4-46ec-9427-312755128882",
   "metadata": {},
   "outputs": [
    {
     "name": "stdout",
     "output_type": "stream",
     "text": [
      "10\n"
     ]
    }
   ],
   "source": [
    "#idempotence\n",
    "print(abs(-10))"
   ]
  },
  {
   "cell_type": "code",
   "execution_count": 7,
   "id": "cbc3a856-8634-4d0f-88c6-ab0ece2da045",
   "metadata": {},
   "outputs": [
    {
     "name": "stdout",
     "output_type": "stream",
     "text": [
      "10\n"
     ]
    }
   ],
   "source": [
    "print(abs(abs(-10))) #abs is idempotence"
   ]
  },
  {
   "cell_type": "code",
   "execution_count": 8,
   "id": "99d22781-c83b-49f2-a32a-f8b4b29eb429",
   "metadata": {},
   "outputs": [],
   "source": [
    "a = 10 #a simple variable is idempotence too \n",
    "\n",
    "#when ever you do something over and over again and you get the same thing and get the same result thats called idempotence statement"
   ]
  },
  {
   "cell_type": "code",
   "execution_count": 9,
   "id": "4b562f2f-d9e3-45ff-a6bd-a4a5122b9616",
   "metadata": {},
   "outputs": [],
   "source": [
    "#HTTP METHOD ---> LOST OF THEM ARE IDEMPOTENCE"
   ]
  },
  {
   "cell_type": "code",
   "execution_count": null,
   "id": "170b2b4f-6ebb-4682-9cc3-17d9c5d31b74",
   "metadata": {},
   "outputs": [],
   "source": [
    "# GET ----> <url> /users/123 ----> if we are going to a url and getting the urls for this user then we reload the same page again and again, it does not change anything-- idempotence\n",
    "# PUT ----> update the value---> even we update the same value again and again it does not change anything this is also idempotence\n",
    "# POST ---> changing data in the background- Voting system websites, every time we go to a certain urls and cast vote this not idempotence because every time we get the different result \n",
    "# DELETE -->-- when we delete something and try to redelete something it does not do anything thats is also idempotence----> catch for the DELETE is when we delete a user and second time we try to redelete it will give 404 error thats just a catch "
   ]
  }
 ],
 "metadata": {
  "kernelspec": {
   "display_name": "Python 3 (ipykernel)",
   "language": "python",
   "name": "python3"
  },
  "language_info": {
   "codemirror_mode": {
    "name": "ipython",
    "version": 3
   },
   "file_extension": ".py",
   "mimetype": "text/x-python",
   "name": "python",
   "nbconvert_exporter": "python",
   "pygments_lexer": "ipython3",
   "version": "3.12.10"
  },
  "widgets": {
   "application/vnd.jupyter.widget-state+json": {
    "state": {},
    "version_major": 2,
    "version_minor": 0
   }
  }
 },
 "nbformat": 4,
 "nbformat_minor": 5
}
