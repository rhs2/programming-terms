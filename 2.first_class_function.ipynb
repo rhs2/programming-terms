{
 "cells": [
  {
   "cell_type": "markdown",
   "id": "04b6fa22-fc6f-465f-8ec0-deede0d9e609",
   "metadata": {},
   "source": [
    "# working with first class functions\n",
    "- a programming language is said to have first class funtion if it treats function as first class citizen\n",
    "- first class citizen- a first class citizen (sometimes called first class obejct) in a programming language is an entity which supports all the operations generally available to other entities. these operations typically include being passed as an argument, returned from a function, and assigned to a variable"
   ]
  },
  {
   "cell_type": "code",
   "execution_count": 2,
   "id": "aa02231c-3fe2-43c9-94d7-15bd09104734",
   "metadata": {},
   "outputs": [
    {
     "name": "stdout",
     "output_type": "stream",
     "text": [
      "<function square at 0x10846ccc0>\n",
      "25\n"
     ]
    }
   ],
   "source": [
    "def square(x):\n",
    "    return x*x\n",
    "f = square(5)\n",
    "\n",
    "print(square) #printing out function square and its memory\n",
    "print(f)"
   ]
  },
  {
   "cell_type": "code",
   "execution_count": 7,
   "id": "d4f9fdc6-abe8-4b80-8789-f4af289a62a2",
   "metadata": {},
   "outputs": [
    {
     "name": "stdout",
     "output_type": "stream",
     "text": [
      "<function square at 0x108534fe0>\n",
      "25\n",
      "square\n"
     ]
    }
   ],
   "source": [
    "#remove parenthesis on func\n",
    "def square(x):\n",
    "    return x*x\n",
    "f = square\n",
    "\n",
    "print(square) #printing out function square and its memory\n",
    "print(f(5))\n",
    "print(f.__name__) #f is square funtions"
   ]
  },
  {
   "cell_type": "code",
   "execution_count": 8,
   "id": "62d8208a-b171-4506-8f8c-943a9ba9dcb1",
   "metadata": {},
   "outputs": [],
   "source": [
    "#pass func as argument and return func as the result of other function, if func take func as argument and return result of other func that is called higher order functions\n"
   ]
  },
  {
   "cell_type": "code",
   "execution_count": 16,
   "id": "eee2ae2d-3f1b-4389-89b5-6e8ab24754af",
   "metadata": {},
   "outputs": [
    {
     "name": "stdout",
     "output_type": "stream",
     "text": [
      "[1, 4, 9, 16, 25, 36]\n"
     ]
    }
   ],
   "source": [
    "#pass a func as a argument in another function\n",
    "def square(x):\n",
    "    return x*x\n",
    "\n",
    "\n",
    "def cube(x):\n",
    "    return x*x*x\n",
    "    \n",
    "def my_map(func, arg_list):\n",
    "    result = []\n",
    "    for i in arg_list:\n",
    "        result.append(func(i))\n",
    "    return result\n",
    "\n",
    "squares = my_map(square,[1,2,3,4,5,6])\n",
    "\n",
    "print(squares)\n",
    "    "
   ]
  },
  {
   "cell_type": "code",
   "execution_count": 17,
   "id": "d23e1e26-8a42-4f7b-a461-7aaf7239a638",
   "metadata": {},
   "outputs": [
    {
     "name": "stdout",
     "output_type": "stream",
     "text": [
      "[1, 8, 27, 64, 125, 216]\n"
     ]
    }
   ],
   "source": [
    "#pass a func as a argument in another function\n",
    "def square(x):\n",
    "    return x*x\n",
    "\n",
    "\n",
    "def cube(x):\n",
    "    return x*x*x\n",
    "    \n",
    "def my_map(func, arg_list):\n",
    "    result = []\n",
    "    for i in arg_list:\n",
    "        result.append(func(i))\n",
    "    return result\n",
    "\n",
    "squares = my_map(cube,[1,2,3,4,5,6])\n",
    "\n",
    "print(squares)\n",
    "    "
   ]
  },
  {
   "cell_type": "code",
   "execution_count": 18,
   "id": "e419b25c-0b07-48d0-b778-3b0f04d7a7f7",
   "metadata": {},
   "outputs": [
    {
     "name": "stdout",
     "output_type": "stream",
     "text": [
      "Log: Hi!\n"
     ]
    }
   ],
   "source": [
    "#returning function as a result from another funtions, this is closure\n",
    "def logger(msg):\n",
    "    def log_message():\n",
    "        print(\"Log:\", msg)\n",
    "    return log_message\n",
    "log_hi = logger(\"Hi!\")\n",
    "log_hi()"
   ]
  },
  {
   "cell_type": "code",
   "execution_count": 21,
   "id": "ab3ded7b-d7dc-4e9c-b698-2cb927906476",
   "metadata": {},
   "outputs": [
    {
     "name": "stdout",
     "output_type": "stream",
     "text": [
      "<h1> Test Headline! </h1>\n",
      "<h1> Another Headline! </h1>\n",
      "<p> Test Paragraph! </p>\n"
     ]
    }
   ],
   "source": [
    "#returning function as a result from another funtions\n",
    "\n",
    "def html_tag(tag):\n",
    "\n",
    "    def wrap_text(msg):\n",
    "        # print('<{0}>{1}</{0}>'.format(tag, msg))\n",
    "        print(f\"<{tag}> {msg} </{tag}>\")\n",
    "\n",
    "    return wrap_text\n",
    "\n",
    "print_h1 = html_tag('h1')\n",
    "print_h1('Test Headline!')\n",
    "print_h1('Another Headline!')\n",
    "\n",
    "print_p = html_tag('p')\n",
    "print_p('Test Paragraph!')"
   ]
  },
  {
   "cell_type": "code",
   "execution_count": null,
   "id": "9f2d1b7d-7bca-40b5-8f26-4cb713a08bee",
   "metadata": {},
   "outputs": [],
   "source": []
  },
  {
   "cell_type": "code",
   "execution_count": null,
   "id": "28194b64-0a80-4277-b425-91705ef7499f",
   "metadata": {},
   "outputs": [],
   "source": []
  }
 ],
 "metadata": {
  "kernelspec": {
   "display_name": "Python 3 (ipykernel)",
   "language": "python",
   "name": "python3"
  },
  "language_info": {
   "codemirror_mode": {
    "name": "ipython",
    "version": 3
   },
   "file_extension": ".py",
   "mimetype": "text/x-python",
   "name": "python",
   "nbconvert_exporter": "python",
   "pygments_lexer": "ipython3",
   "version": "3.12.10"
  },
  "widgets": {
   "application/vnd.jupyter.widget-state+json": {
    "state": {},
    "version_major": 2,
    "version_minor": 0
   }
  }
 },
 "nbformat": 4,
 "nbformat_minor": 5
}
